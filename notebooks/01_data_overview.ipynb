{
 "cells": [
  {
   "cell_type": "code",
   "execution_count": 3,
   "id": "9d0d4f00-b090-4234-babe-7f7aea3cb848",
   "metadata": {},
   "outputs": [
    {
     "name": "stdout",
     "output_type": "stream",
     "text": [
      "Project root: C:\\LABS\\Week8\\Mezcal-final\n",
      "Raw dir: C:\\LABS\\Week8\\Mezcal-final\\data\\raw\n",
      "Processed dir: C:\\LABS\\Week8\\Mezcal-final\\data\\processed\n",
      "pandas version: 2.3.1\n"
     ]
    }
   ],
   "source": [
    "import pandas as pd\n",
    "import numpy as np\n",
    "from pathlib import Path\n",
    "\n",
    "# Notebook is saved under /notebooks, so project root is one level up\n",
    "PROJECT_ROOT = Path(\"..\").resolve()\n",
    "RAW_DIR = PROJECT_ROOT / \"data\" / \"raw\"\n",
    "PROCESSED_DIR = PROJECT_ROOT / \"data\" / \"processed\"\n",
    "\n",
    "# Display options for easier inspection\n",
    "pd.set_option(\"display.max_rows\", 20)\n",
    "pd.set_option(\"display.max_columns\", 50)\n",
    "pd.set_option(\"display.width\", 120)\n",
    "\n",
    "print(\"Project root:\", PROJECT_ROOT)\n",
    "print(\"Raw dir:\", RAW_DIR)\n",
    "print(\"Processed dir:\", PROCESSED_DIR)\n",
    "print(\"pandas version:\", pd.__version__)"
   ]
  },
  {
   "cell_type": "code",
   "execution_count": 4,
   "id": "8eb65fc3",
   "metadata": {},
   "outputs": [
    {
     "name": "stdout",
     "output_type": "stream",
     "text": [
      "Shape: (14, 3)\n",
      "Columns: ['Unnamed: 0', 'Year', 'Production_liters']\n"
     ]
    },
    {
     "data": {
      "application/vnd.microsoft.datawrangler.viewer.v0+json": {
       "columns": [
        {
         "name": "index",
         "rawType": "int64",
         "type": "integer"
        },
        {
         "name": "Unnamed: 0",
         "rawType": "int64",
         "type": "integer"
        },
        {
         "name": "Year",
         "rawType": "float64",
         "type": "float"
        },
        {
         "name": "Production_liters",
         "rawType": "float64",
         "type": "float"
        }
       ],
       "ref": "af84f773-844f-4cf7-af7d-bf524bec1334",
       "rows": [
        [
         "0",
         "0",
         "2011.0",
         "980375.0"
        ],
        [
         "1",
         "1",
         "2012.0",
         "1044696.0"
        ],
        [
         "2",
         "2",
         "2013.0",
         "2519568.0"
        ],
        [
         "3",
         "3",
         "2014.0",
         "1451718.0"
        ],
        [
         "4",
         "4",
         "2015.0",
         "2419175.0"
        ]
       ],
       "shape": {
        "columns": 3,
        "rows": 5
       }
      },
      "text/html": [
       "<div>\n",
       "<style scoped>\n",
       "    .dataframe tbody tr th:only-of-type {\n",
       "        vertical-align: middle;\n",
       "    }\n",
       "\n",
       "    .dataframe tbody tr th {\n",
       "        vertical-align: top;\n",
       "    }\n",
       "\n",
       "    .dataframe thead th {\n",
       "        text-align: right;\n",
       "    }\n",
       "</style>\n",
       "<table border=\"1\" class=\"dataframe\">\n",
       "  <thead>\n",
       "    <tr style=\"text-align: right;\">\n",
       "      <th></th>\n",
       "      <th>Unnamed: 0</th>\n",
       "      <th>Year</th>\n",
       "      <th>Production_liters</th>\n",
       "    </tr>\n",
       "  </thead>\n",
       "  <tbody>\n",
       "    <tr>\n",
       "      <th>0</th>\n",
       "      <td>0</td>\n",
       "      <td>2011.0</td>\n",
       "      <td>980375.0</td>\n",
       "    </tr>\n",
       "    <tr>\n",
       "      <th>1</th>\n",
       "      <td>1</td>\n",
       "      <td>2012.0</td>\n",
       "      <td>1044696.0</td>\n",
       "    </tr>\n",
       "    <tr>\n",
       "      <th>2</th>\n",
       "      <td>2</td>\n",
       "      <td>2013.0</td>\n",
       "      <td>2519568.0</td>\n",
       "    </tr>\n",
       "    <tr>\n",
       "      <th>3</th>\n",
       "      <td>3</td>\n",
       "      <td>2014.0</td>\n",
       "      <td>1451718.0</td>\n",
       "    </tr>\n",
       "    <tr>\n",
       "      <th>4</th>\n",
       "      <td>4</td>\n",
       "      <td>2015.0</td>\n",
       "      <td>2419175.0</td>\n",
       "    </tr>\n",
       "  </tbody>\n",
       "</table>\n",
       "</div>"
      ],
      "text/plain": [
       "   Unnamed: 0    Year  Production_liters\n",
       "0           0  2011.0           980375.0\n",
       "1           1  2012.0          1044696.0\n",
       "2           2  2013.0          2519568.0\n",
       "3           3  2014.0          1451718.0\n",
       "4           4  2015.0          2419175.0"
      ]
     },
     "metadata": {},
     "output_type": "display_data"
    },
    {
     "data": {
      "application/vnd.microsoft.datawrangler.viewer.v0+json": {
       "columns": [
        {
         "name": "index",
         "rawType": "object",
         "type": "string"
        },
        {
         "name": "0",
         "rawType": "object",
         "type": "unknown"
        }
       ],
       "ref": "27e16dd8-6a6b-4595-81a2-d495d12d66e8",
       "rows": [
        [
         "Unnamed: 0",
         "int64"
        ],
        [
         "Year",
         "float64"
        ],
        [
         "Production_liters",
         "float64"
        ]
       ],
       "shape": {
        "columns": 1,
        "rows": 3
       }
      },
      "text/plain": [
       "Unnamed: 0             int64\n",
       "Year                 float64\n",
       "Production_liters    float64\n",
       "dtype: object"
      ]
     },
     "metadata": {},
     "output_type": "display_data"
    }
   ],
   "source": [
    "prod_path = RAW_DIR / \"comercam\" / \"mezcal_master_production_2005_2024.csv\"\n",
    "df_prod = pd.read_csv(prod_path)\n",
    "\n",
    "print(\"Shape:\", df_prod.shape)\n",
    "print(\"Columns:\", list(df_prod.columns))\n",
    "display(df_prod.head())\n",
    "display(df_prod.dtypes)"
   ]
  },
  {
   "cell_type": "code",
   "execution_count": 5,
   "id": "de3a3c17",
   "metadata": {},
   "outputs": [],
   "source": [
    "def csv_mini_clean(df, numeric_cols=None, date_cols=None, dropna_subset=None):\n",
    "    df2 = df.copy()\n",
    "    obj_cols = df2.select_dtypes(include=\"object\").columns\n",
    "    for c in obj_cols:\n",
    "        df2[c] = df2[c].str.strip()\n",
    "    if numeric_cols:\n",
    "        for c in numeric_cols:\n",
    "            df2[c] = pd.to_numeric(df2[c], errors=\"coerce\")\n",
    "    if date_cols:\n",
    "        for c in date_cols:\n",
    "            df2[c] = pd.to_datetime(df2[c], errors=\"coerce\")\n",
    "    df2 = df2.loc[:, ~df2.columns.str.match(r\"^Unnamed\")]\n",
    "    df2 = df2.drop_duplicates()\n",
    "    if dropna_subset:\n",
    "        df2 = df2.dropna(subset=dropna_subset)\n",
    "    return df2"
   ]
  },
  {
   "cell_type": "code",
   "execution_count": 6,
   "id": "f358af94",
   "metadata": {},
   "outputs": [
    {
     "data": {
      "application/vnd.microsoft.datawrangler.viewer.v0+json": {
       "columns": [
        {
         "name": "index",
         "rawType": "int64",
         "type": "integer"
        },
        {
         "name": "Year",
         "rawType": "Int64",
         "type": "integer"
        },
        {
         "name": "Production_liters",
         "rawType": "float64",
         "type": "float"
        }
       ],
       "ref": "ef535487-808f-4cd6-9308-221dc1744baa",
       "rows": [
        [
         "0",
         "2011",
         "980375.0"
        ],
        [
         "1",
         "2012",
         "1044696.0"
        ],
        [
         "2",
         "2013",
         "2519568.0"
        ],
        [
         "3",
         "2014",
         "1451718.0"
        ],
        [
         "4",
         "2015",
         "2419175.0"
        ]
       ],
       "shape": {
        "columns": 2,
        "rows": 5
       }
      },
      "text/html": [
       "<div>\n",
       "<style scoped>\n",
       "    .dataframe tbody tr th:only-of-type {\n",
       "        vertical-align: middle;\n",
       "    }\n",
       "\n",
       "    .dataframe tbody tr th {\n",
       "        vertical-align: top;\n",
       "    }\n",
       "\n",
       "    .dataframe thead th {\n",
       "        text-align: right;\n",
       "    }\n",
       "</style>\n",
       "<table border=\"1\" class=\"dataframe\">\n",
       "  <thead>\n",
       "    <tr style=\"text-align: right;\">\n",
       "      <th></th>\n",
       "      <th>Year</th>\n",
       "      <th>Production_liters</th>\n",
       "    </tr>\n",
       "  </thead>\n",
       "  <tbody>\n",
       "    <tr>\n",
       "      <th>0</th>\n",
       "      <td>2011</td>\n",
       "      <td>980375.0</td>\n",
       "    </tr>\n",
       "    <tr>\n",
       "      <th>1</th>\n",
       "      <td>2012</td>\n",
       "      <td>1044696.0</td>\n",
       "    </tr>\n",
       "    <tr>\n",
       "      <th>2</th>\n",
       "      <td>2013</td>\n",
       "      <td>2519568.0</td>\n",
       "    </tr>\n",
       "    <tr>\n",
       "      <th>3</th>\n",
       "      <td>2014</td>\n",
       "      <td>1451718.0</td>\n",
       "    </tr>\n",
       "    <tr>\n",
       "      <th>4</th>\n",
       "      <td>2015</td>\n",
       "      <td>2419175.0</td>\n",
       "    </tr>\n",
       "  </tbody>\n",
       "</table>\n",
       "</div>"
      ],
      "text/plain": [
       "   Year  Production_liters\n",
       "0  2011           980375.0\n",
       "1  2012          1044696.0\n",
       "2  2013          2519568.0\n",
       "3  2014          1451718.0\n",
       "4  2015          2419175.0"
      ]
     },
     "metadata": {},
     "output_type": "display_data"
    },
    {
     "data": {
      "application/vnd.microsoft.datawrangler.viewer.v0+json": {
       "columns": [
        {
         "name": "index",
         "rawType": "object",
         "type": "string"
        },
        {
         "name": "0",
         "rawType": "object",
         "type": "unknown"
        }
       ],
       "ref": "18e42f3f-a008-4889-99ef-a0e30cc92743",
       "rows": [
        [
         "Year",
         "Int64"
        ],
        [
         "Production_liters",
         "float64"
        ]
       ],
       "shape": {
        "columns": 1,
        "rows": 2
       }
      },
      "text/plain": [
       "Year                   Int64\n",
       "Production_liters    float64\n",
       "dtype: object"
      ]
     },
     "metadata": {},
     "output_type": "display_data"
    },
    {
     "name": "stdout",
     "output_type": "stream",
     "text": [
      "C:\\LABS\\Week8\\Mezcal-final\\data\\processed\\production_2005_2024.csv\n"
     ]
    }
   ],
   "source": [
    "clean_prod = csv_mini_clean(\n",
    "    df_prod,\n",
    "    numeric_cols=[\"Production_liters\"],\n",
    "    dropna_subset=[\"Year\", \"Production_liters\"]\n",
    ")\n",
    "clean_prod[\"Year\"] = pd.to_numeric(clean_prod[\"Year\"], errors=\"coerce\").astype(\"Int64\")\n",
    "\n",
    "PROCESSED_DIR.mkdir(parents=True, exist_ok=True)\n",
    "out_path = PROCESSED_DIR / \"production_2005_2024.csv\"\n",
    "clean_prod.to_csv(out_path, index=False)\n",
    "\n",
    "display(clean_prod.head())\n",
    "display(clean_prod.dtypes)\n",
    "print(out_path)"
   ]
  },
  {
   "cell_type": "code",
   "execution_count": 7,
   "id": "80a3e403",
   "metadata": {},
   "outputs": [
    {
     "name": "stdout",
     "output_type": "stream",
     "text": [
      "\n",
      ">>> EXPORT — mezcal_master_bottling_export_2011_2024.csv\n",
      "Shape: (14, 3)\n",
      "Columns: ['Unnamed: 0', 'Year', 'Liters']\n"
     ]
    },
    {
     "data": {
      "application/vnd.microsoft.datawrangler.viewer.v0+json": {
       "columns": [
        {
         "name": "index",
         "rawType": "int64",
         "type": "integer"
        },
        {
         "name": "Unnamed: 0",
         "rawType": "int64",
         "type": "integer"
        },
        {
         "name": "Year",
         "rawType": "int64",
         "type": "integer"
        },
        {
         "name": "Liters",
         "rawType": "int64",
         "type": "integer"
        }
       ],
       "ref": "30e5b46f-01e9-4fb9-a400-3b74dcdee74d",
       "rows": [
        [
         "0",
         "0",
         "2011",
         "647989"
        ],
        [
         "1",
         "1",
         "2012",
         "768014"
        ],
        [
         "2",
         "2",
         "2013",
         "914317"
        ],
        [
         "3",
         "3",
         "2014",
         "1157420"
        ],
        [
         "4",
         "4",
         "2015",
         "1480263"
        ]
       ],
       "shape": {
        "columns": 3,
        "rows": 5
       }
      },
      "text/html": [
       "<div>\n",
       "<style scoped>\n",
       "    .dataframe tbody tr th:only-of-type {\n",
       "        vertical-align: middle;\n",
       "    }\n",
       "\n",
       "    .dataframe tbody tr th {\n",
       "        vertical-align: top;\n",
       "    }\n",
       "\n",
       "    .dataframe thead th {\n",
       "        text-align: right;\n",
       "    }\n",
       "</style>\n",
       "<table border=\"1\" class=\"dataframe\">\n",
       "  <thead>\n",
       "    <tr style=\"text-align: right;\">\n",
       "      <th></th>\n",
       "      <th>Unnamed: 0</th>\n",
       "      <th>Year</th>\n",
       "      <th>Liters</th>\n",
       "    </tr>\n",
       "  </thead>\n",
       "  <tbody>\n",
       "    <tr>\n",
       "      <th>0</th>\n",
       "      <td>0</td>\n",
       "      <td>2011</td>\n",
       "      <td>647989</td>\n",
       "    </tr>\n",
       "    <tr>\n",
       "      <th>1</th>\n",
       "      <td>1</td>\n",
       "      <td>2012</td>\n",
       "      <td>768014</td>\n",
       "    </tr>\n",
       "    <tr>\n",
       "      <th>2</th>\n",
       "      <td>2</td>\n",
       "      <td>2013</td>\n",
       "      <td>914317</td>\n",
       "    </tr>\n",
       "    <tr>\n",
       "      <th>3</th>\n",
       "      <td>3</td>\n",
       "      <td>2014</td>\n",
       "      <td>1157420</td>\n",
       "    </tr>\n",
       "    <tr>\n",
       "      <th>4</th>\n",
       "      <td>4</td>\n",
       "      <td>2015</td>\n",
       "      <td>1480263</td>\n",
       "    </tr>\n",
       "  </tbody>\n",
       "</table>\n",
       "</div>"
      ],
      "text/plain": [
       "   Unnamed: 0  Year   Liters\n",
       "0           0  2011   647989\n",
       "1           1  2012   768014\n",
       "2           2  2013   914317\n",
       "3           3  2014  1157420\n",
       "4           4  2015  1480263"
      ]
     },
     "metadata": {},
     "output_type": "display_data"
    },
    {
     "name": "stdout",
     "output_type": "stream",
     "text": [
      "\n",
      ">>> NATIONAL — mezcal_master_bottling_national_2011_2024.csv\n",
      "Shape: (14, 3)\n",
      "Columns: ['Unnamed: 0', 'Year', 'Liters']\n"
     ]
    },
    {
     "data": {
      "application/vnd.microsoft.datawrangler.viewer.v0+json": {
       "columns": [
        {
         "name": "index",
         "rawType": "int64",
         "type": "integer"
        },
        {
         "name": "Unnamed: 0",
         "rawType": "int64",
         "type": "integer"
        },
        {
         "name": "Year",
         "rawType": "int64",
         "type": "integer"
        },
        {
         "name": "Liters",
         "rawType": "int64",
         "type": "integer"
        }
       ],
       "ref": "a09e0213-775a-46da-a64f-613a4101cbae",
       "rows": [
        [
         "0",
         "0",
         "2011",
         "270426"
        ],
        [
         "1",
         "1",
         "2012",
         "317803"
        ],
        [
         "2",
         "2",
         "2013",
         "800002"
        ],
        [
         "3",
         "3",
         "2014",
         "924686"
        ],
        [
         "4",
         "4",
         "2015",
         "1508839"
        ]
       ],
       "shape": {
        "columns": 3,
        "rows": 5
       }
      },
      "text/html": [
       "<div>\n",
       "<style scoped>\n",
       "    .dataframe tbody tr th:only-of-type {\n",
       "        vertical-align: middle;\n",
       "    }\n",
       "\n",
       "    .dataframe tbody tr th {\n",
       "        vertical-align: top;\n",
       "    }\n",
       "\n",
       "    .dataframe thead th {\n",
       "        text-align: right;\n",
       "    }\n",
       "</style>\n",
       "<table border=\"1\" class=\"dataframe\">\n",
       "  <thead>\n",
       "    <tr style=\"text-align: right;\">\n",
       "      <th></th>\n",
       "      <th>Unnamed: 0</th>\n",
       "      <th>Year</th>\n",
       "      <th>Liters</th>\n",
       "    </tr>\n",
       "  </thead>\n",
       "  <tbody>\n",
       "    <tr>\n",
       "      <th>0</th>\n",
       "      <td>0</td>\n",
       "      <td>2011</td>\n",
       "      <td>270426</td>\n",
       "    </tr>\n",
       "    <tr>\n",
       "      <th>1</th>\n",
       "      <td>1</td>\n",
       "      <td>2012</td>\n",
       "      <td>317803</td>\n",
       "    </tr>\n",
       "    <tr>\n",
       "      <th>2</th>\n",
       "      <td>2</td>\n",
       "      <td>2013</td>\n",
       "      <td>800002</td>\n",
       "    </tr>\n",
       "    <tr>\n",
       "      <th>3</th>\n",
       "      <td>3</td>\n",
       "      <td>2014</td>\n",
       "      <td>924686</td>\n",
       "    </tr>\n",
       "    <tr>\n",
       "      <th>4</th>\n",
       "      <td>4</td>\n",
       "      <td>2015</td>\n",
       "      <td>1508839</td>\n",
       "    </tr>\n",
       "  </tbody>\n",
       "</table>\n",
       "</div>"
      ],
      "text/plain": [
       "   Unnamed: 0  Year   Liters\n",
       "0           0  2011   270426\n",
       "1           1  2012   317803\n",
       "2           2  2013   800002\n",
       "3           3  2014   924686\n",
       "4           4  2015  1508839"
      ]
     },
     "metadata": {},
     "output_type": "display_data"
    },
    {
     "name": "stdout",
     "output_type": "stream",
     "text": [
      "\n",
      ">>> INDICATORS — mezcal_master_indicators_2021_2024.csv\n",
      "Shape: (37, 3)\n",
      "Columns: ['Year', 'Indicator', 'Value']\n"
     ]
    },
    {
     "data": {
      "application/vnd.microsoft.datawrangler.viewer.v0+json": {
       "columns": [
        {
         "name": "index",
         "rawType": "int64",
         "type": "integer"
        },
        {
         "name": "Year",
         "rawType": "int64",
         "type": "integer"
        },
        {
         "name": "Indicator",
         "rawType": "object",
         "type": "string"
        },
        {
         "name": "Value",
         "rawType": "float64",
         "type": "float"
        }
       ],
       "ref": "2a09217b-ab9a-4dab-bee6-b0ba5186ed13",
       "rows": [
        [
         "0",
         "2021",
         "Production_liters",
         "8099591.0"
        ],
        [
         "1",
         "2021",
         "Bottling_national",
         "3684458.0"
        ],
        [
         "2",
         "2021",
         "Bottling_export",
         "5102520.0"
        ],
        [
         "3",
         "2021",
         "Registered_properties",
         "11531.0"
        ],
        [
         "4",
         "2021",
         "Registered_associates",
         "3960.0"
        ]
       ],
       "shape": {
        "columns": 3,
        "rows": 5
       }
      },
      "text/html": [
       "<div>\n",
       "<style scoped>\n",
       "    .dataframe tbody tr th:only-of-type {\n",
       "        vertical-align: middle;\n",
       "    }\n",
       "\n",
       "    .dataframe tbody tr th {\n",
       "        vertical-align: top;\n",
       "    }\n",
       "\n",
       "    .dataframe thead th {\n",
       "        text-align: right;\n",
       "    }\n",
       "</style>\n",
       "<table border=\"1\" class=\"dataframe\">\n",
       "  <thead>\n",
       "    <tr style=\"text-align: right;\">\n",
       "      <th></th>\n",
       "      <th>Year</th>\n",
       "      <th>Indicator</th>\n",
       "      <th>Value</th>\n",
       "    </tr>\n",
       "  </thead>\n",
       "  <tbody>\n",
       "    <tr>\n",
       "      <th>0</th>\n",
       "      <td>2021</td>\n",
       "      <td>Production_liters</td>\n",
       "      <td>8099591.0</td>\n",
       "    </tr>\n",
       "    <tr>\n",
       "      <th>1</th>\n",
       "      <td>2021</td>\n",
       "      <td>Bottling_national</td>\n",
       "      <td>3684458.0</td>\n",
       "    </tr>\n",
       "    <tr>\n",
       "      <th>2</th>\n",
       "      <td>2021</td>\n",
       "      <td>Bottling_export</td>\n",
       "      <td>5102520.0</td>\n",
       "    </tr>\n",
       "    <tr>\n",
       "      <th>3</th>\n",
       "      <td>2021</td>\n",
       "      <td>Registered_properties</td>\n",
       "      <td>11531.0</td>\n",
       "    </tr>\n",
       "    <tr>\n",
       "      <th>4</th>\n",
       "      <td>2021</td>\n",
       "      <td>Registered_associates</td>\n",
       "      <td>3960.0</td>\n",
       "    </tr>\n",
       "  </tbody>\n",
       "</table>\n",
       "</div>"
      ],
      "text/plain": [
       "   Year              Indicator      Value\n",
       "0  2021      Production_liters  8099591.0\n",
       "1  2021      Bottling_national  3684458.0\n",
       "2  2021        Bottling_export  5102520.0\n",
       "3  2021  Registered_properties    11531.0\n",
       "4  2021  Registered_associates     3960.0"
      ]
     },
     "metadata": {},
     "output_type": "display_data"
    }
   ],
   "source": [
    "paths = {\n",
    "    \"export\": RAW_DIR / \"comercam\" / \"mezcal_master_bottling_export_2011_2024.csv\",\n",
    "    \"national\": RAW_DIR / \"comercam\" / \"mezcal_master_bottling_national_2011_2024.csv\",\n",
    "    \"indicators\": RAW_DIR / \"comercam\" / \"mezcal_master_indicators_2021_2024.csv\",\n",
    "}\n",
    "\n",
    "for name, p in paths.items():\n",
    "    df = pd.read_csv(p)\n",
    "    print(f\"\\n>>> {name.upper()} — {p.name}\")\n",
    "    print(\"Shape:\", df.shape)\n",
    "    print(\"Columns:\", list(df.columns))\n",
    "    display(df.head())"
   ]
  },
  {
   "cell_type": "code",
   "execution_count": 8,
   "metadata": {},
   "outputs": [
    {
     "data": {
      "application/vnd.microsoft.datawrangler.viewer.v0+json": {
       "columns": [
        {
         "name": "index",
         "rawType": "int64",
         "type": "integer"
        },
        {
         "name": "Year",
         "rawType": "Int64",
         "type": "integer"
        },
        {
         "name": "Liters",
         "rawType": "int64",
         "type": "integer"
        }
       ],
       "ref": "cbdc6550-09ac-4396-8956-f0a306b59e45",
       "rows": [
        [
         "0",
         "2011",
         "647989"
        ],
        [
         "1",
         "2012",
         "768014"
        ],
        [
         "2",
         "2013",
         "914317"
        ],
        [
         "3",
         "2014",
         "1157420"
        ],
        [
         "4",
         "2015",
         "1480263"
        ]
       ],
       "shape": {
        "columns": 2,
        "rows": 5
       }
      },
      "text/html": [
       "<div>\n",
       "<style scoped>\n",
       "    .dataframe tbody tr th:only-of-type {\n",
       "        vertical-align: middle;\n",
       "    }\n",
       "\n",
       "    .dataframe tbody tr th {\n",
       "        vertical-align: top;\n",
       "    }\n",
       "\n",
       "    .dataframe thead th {\n",
       "        text-align: right;\n",
       "    }\n",
       "</style>\n",
       "<table border=\"1\" class=\"dataframe\">\n",
       "  <thead>\n",
       "    <tr style=\"text-align: right;\">\n",
       "      <th></th>\n",
       "      <th>Year</th>\n",
       "      <th>Liters</th>\n",
       "    </tr>\n",
       "  </thead>\n",
       "  <tbody>\n",
       "    <tr>\n",
       "      <th>0</th>\n",
       "      <td>2011</td>\n",
       "      <td>647989</td>\n",
       "    </tr>\n",
       "    <tr>\n",
       "      <th>1</th>\n",
       "      <td>2012</td>\n",
       "      <td>768014</td>\n",
       "    </tr>\n",
       "    <tr>\n",
       "      <th>2</th>\n",
       "      <td>2013</td>\n",
       "      <td>914317</td>\n",
       "    </tr>\n",
       "    <tr>\n",
       "      <th>3</th>\n",
       "      <td>2014</td>\n",
       "      <td>1157420</td>\n",
       "    </tr>\n",
       "    <tr>\n",
       "      <th>4</th>\n",
       "      <td>2015</td>\n",
       "      <td>1480263</td>\n",
       "    </tr>\n",
       "  </tbody>\n",
       "</table>\n",
       "</div>"
      ],
      "text/plain": [
       "   Year   Liters\n",
       "0  2011   647989\n",
       "1  2012   768014\n",
       "2  2013   914317\n",
       "3  2014  1157420\n",
       "4  2015  1480263"
      ]
     },
     "metadata": {},
     "output_type": "display_data"
    },
    {
     "data": {
      "application/vnd.microsoft.datawrangler.viewer.v0+json": {
       "columns": [
        {
         "name": "index",
         "rawType": "object",
         "type": "string"
        },
        {
         "name": "0",
         "rawType": "object",
         "type": "unknown"
        }
       ],
       "ref": "e983d4c0-ed8f-4046-8841-e5514df84573",
       "rows": [
        [
         "Year",
         "Int64"
        ],
        [
         "Liters",
         "int64"
        ]
       ],
       "shape": {
        "columns": 1,
        "rows": 2
       }
      },
      "text/plain": [
       "Year      Int64\n",
       "Liters    int64\n",
       "dtype: object"
      ]
     },
     "metadata": {},
     "output_type": "display_data"
    },
    {
     "name": "stdout",
     "output_type": "stream",
     "text": [
      "C:\\LABS\\Week8\\Mezcal-final\\data\\processed\\bottling_export_2011_2024.csv\n"
     ]
    }
   ],
   "source": [
    "path = RAW_DIR / \"comercam\" / \"mezcal_master_bottling_export_2011_2024.csv\"\n",
    "df = pd.read_csv(path)\n",
    "\n",
    "def csv_mini_clean(df, numeric_cols=None, date_cols=None, dropna_subset=None):\n",
    "    df2 = df.copy()\n",
    "    obj_cols = df2.select_dtypes(include=\"object\").columns\n",
    "    for c in obj_cols:\n",
    "        df2[c] = df2[c].str.strip()\n",
    "    if numeric_cols:\n",
    "        for c in numeric_cols:\n",
    "            df2[c] = pd.to_numeric(df2[c], errors=\"coerce\")\n",
    "    if date_cols:\n",
    "        for c in date_cols:\n",
    "            df2[c] = pd.to_datetime(df2[c], errors=\"coerce\")\n",
    "    df2 = df2.loc[:, ~df2.columns.str.match(r\"^Unnamed\")]\n",
    "    df2 = df2.drop_duplicates()\n",
    "    if dropna_subset:\n",
    "        df2 = df2.dropna(subset=dropna_subset)\n",
    "    return df2\n",
    "\n",
    "clean_export = csv_mini_clean(\n",
    "    df, numeric_cols=[\"Liters\"], dropna_subset=[\"Year\", \"Liters\"]\n",
    ")\n",
    "clean_export[\"Year\"] = pd.to_numeric(clean_export[\"Year\"], errors=\"coerce\").astype(\"Int64\")\n",
    "\n",
    "PROCESSED_DIR.mkdir(parents=True, exist_ok=True)\n",
    "out_path = PROCESSED_DIR / \"bottling_export_2011_2024.csv\"\n",
    "clean_export.to_csv(out_path, index=False)\n",
    "\n",
    "display(clean_export.head())\n",
    "display(clean_export.dtypes)\n",
    "print(out_path)"
   ]
  },
  {
   "cell_type": "code",
   "execution_count": 9,
   "id": "3ebe00b9",
   "metadata": {},
   "outputs": [
    {
     "data": {
      "application/vnd.microsoft.datawrangler.viewer.v0+json": {
       "columns": [
        {
         "name": "index",
         "rawType": "int64",
         "type": "integer"
        },
        {
         "name": "Year",
         "rawType": "Int64",
         "type": "integer"
        },
        {
         "name": "Liters",
         "rawType": "int64",
         "type": "integer"
        }
       ],
       "ref": "a9cd7822-924e-40a1-a9c1-2ff8f56a07bf",
       "rows": [
        [
         "0",
         "2011",
         "270426"
        ],
        [
         "1",
         "2012",
         "317803"
        ],
        [
         "2",
         "2013",
         "800002"
        ],
        [
         "3",
         "2014",
         "924686"
        ],
        [
         "4",
         "2015",
         "1508839"
        ]
       ],
       "shape": {
        "columns": 2,
        "rows": 5
       }
      },
      "text/html": [
       "<div>\n",
       "<style scoped>\n",
       "    .dataframe tbody tr th:only-of-type {\n",
       "        vertical-align: middle;\n",
       "    }\n",
       "\n",
       "    .dataframe tbody tr th {\n",
       "        vertical-align: top;\n",
       "    }\n",
       "\n",
       "    .dataframe thead th {\n",
       "        text-align: right;\n",
       "    }\n",
       "</style>\n",
       "<table border=\"1\" class=\"dataframe\">\n",
       "  <thead>\n",
       "    <tr style=\"text-align: right;\">\n",
       "      <th></th>\n",
       "      <th>Year</th>\n",
       "      <th>Liters</th>\n",
       "    </tr>\n",
       "  </thead>\n",
       "  <tbody>\n",
       "    <tr>\n",
       "      <th>0</th>\n",
       "      <td>2011</td>\n",
       "      <td>270426</td>\n",
       "    </tr>\n",
       "    <tr>\n",
       "      <th>1</th>\n",
       "      <td>2012</td>\n",
       "      <td>317803</td>\n",
       "    </tr>\n",
       "    <tr>\n",
       "      <th>2</th>\n",
       "      <td>2013</td>\n",
       "      <td>800002</td>\n",
       "    </tr>\n",
       "    <tr>\n",
       "      <th>3</th>\n",
       "      <td>2014</td>\n",
       "      <td>924686</td>\n",
       "    </tr>\n",
       "    <tr>\n",
       "      <th>4</th>\n",
       "      <td>2015</td>\n",
       "      <td>1508839</td>\n",
       "    </tr>\n",
       "  </tbody>\n",
       "</table>\n",
       "</div>"
      ],
      "text/plain": [
       "   Year   Liters\n",
       "0  2011   270426\n",
       "1  2012   317803\n",
       "2  2013   800002\n",
       "3  2014   924686\n",
       "4  2015  1508839"
      ]
     },
     "metadata": {},
     "output_type": "display_data"
    },
    {
     "data": {
      "application/vnd.microsoft.datawrangler.viewer.v0+json": {
       "columns": [
        {
         "name": "index",
         "rawType": "object",
         "type": "string"
        },
        {
         "name": "0",
         "rawType": "object",
         "type": "unknown"
        }
       ],
       "ref": "4e95f227-6f35-4544-b517-2467a53d7489",
       "rows": [
        [
         "Year",
         "Int64"
        ],
        [
         "Liters",
         "int64"
        ]
       ],
       "shape": {
        "columns": 1,
        "rows": 2
       }
      },
      "text/plain": [
       "Year      Int64\n",
       "Liters    int64\n",
       "dtype: object"
      ]
     },
     "metadata": {},
     "output_type": "display_data"
    },
    {
     "name": "stdout",
     "output_type": "stream",
     "text": [
      "C:\\LABS\\Week8\\Mezcal-final\\data\\processed\\bottling_national_2011_2024.csv\n"
     ]
    }
   ],
   "source": [
    "import pandas as pd\n",
    "\n",
    "path = RAW_DIR / \"comercam\" / \"mezcal_master_bottling_national_2011_2024.csv\"\n",
    "df = pd.read_csv(path)\n",
    "\n",
    "def csv_mini_clean(df, numeric_cols=None, date_cols=None, dropna_subset=None):\n",
    "    df2 = df.copy()\n",
    "    obj_cols = df2.select_dtypes(include=\"object\").columns\n",
    "    for c in obj_cols:\n",
    "        df2[c] = df2[c].str.strip()\n",
    "    if numeric_cols:\n",
    "        for c in numeric_cols:\n",
    "            df2[c] = pd.to_numeric(df2[c], errors=\"coerce\")\n",
    "    if date_cols:\n",
    "        for c in date_cols:\n",
    "            df2[c] = pd.to_datetime(df2[c], errors=\"coerce\")\n",
    "    df2 = df2.loc[:, ~df2.columns.str.match(r\"^Unnamed\")]\n",
    "    df2 = df2.drop_duplicates()\n",
    "    if dropna_subset:\n",
    "        df2 = df2.dropna(subset=dropna_subset)\n",
    "    return df2\n",
    "\n",
    "clean_nat = csv_mini_clean(df, numeric_cols=[\"Liters\"], dropna_subset=[\"Year\",\"Liters\"])\n",
    "clean_nat[\"Year\"] = pd.to_numeric(clean_nat[\"Year\"], errors=\"coerce\").astype(\"Int64\")\n",
    "\n",
    "PROCESSED_DIR.mkdir(parents=True, exist_ok=True)\n",
    "out_path = PROCESSED_DIR / \"bottling_national_2011_2024.csv\"\n",
    "clean_nat.to_csv(out_path, index=False)\n",
    "\n",
    "display(clean_nat.head())\n",
    "display(clean_nat.dtypes)\n",
    "print(out_path)"
   ]
  },
  {
   "cell_type": "code",
   "execution_count": 10,
   "id": "3fc19f8f",
   "metadata": {},
   "outputs": [
    {
     "data": {
      "application/vnd.microsoft.datawrangler.viewer.v0+json": {
       "columns": [
        {
         "name": "index",
         "rawType": "int64",
         "type": "integer"
        },
        {
         "name": "Year",
         "rawType": "Int64",
         "type": "integer"
        },
        {
         "name": "Indicator",
         "rawType": "string",
         "type": "string"
        },
        {
         "name": "Value",
         "rawType": "float64",
         "type": "float"
        }
       ],
       "ref": "9f2b1aa0-7a07-467c-8da1-20fbdfebe4ee",
       "rows": [
        [
         "0",
         "2021",
         "Production_liters",
         "8099591.0"
        ],
        [
         "1",
         "2021",
         "Bottling_national",
         "3684458.0"
        ],
        [
         "2",
         "2021",
         "Bottling_export",
         "5102520.0"
        ],
        [
         "3",
         "2021",
         "Registered_properties",
         "11531.0"
        ],
        [
         "4",
         "2021",
         "Registered_associates",
         "3960.0"
        ]
       ],
       "shape": {
        "columns": 3,
        "rows": 5
       }
      },
      "text/html": [
       "<div>\n",
       "<style scoped>\n",
       "    .dataframe tbody tr th:only-of-type {\n",
       "        vertical-align: middle;\n",
       "    }\n",
       "\n",
       "    .dataframe tbody tr th {\n",
       "        vertical-align: top;\n",
       "    }\n",
       "\n",
       "    .dataframe thead th {\n",
       "        text-align: right;\n",
       "    }\n",
       "</style>\n",
       "<table border=\"1\" class=\"dataframe\">\n",
       "  <thead>\n",
       "    <tr style=\"text-align: right;\">\n",
       "      <th></th>\n",
       "      <th>Year</th>\n",
       "      <th>Indicator</th>\n",
       "      <th>Value</th>\n",
       "    </tr>\n",
       "  </thead>\n",
       "  <tbody>\n",
       "    <tr>\n",
       "      <th>0</th>\n",
       "      <td>2021</td>\n",
       "      <td>Production_liters</td>\n",
       "      <td>8099591.0</td>\n",
       "    </tr>\n",
       "    <tr>\n",
       "      <th>1</th>\n",
       "      <td>2021</td>\n",
       "      <td>Bottling_national</td>\n",
       "      <td>3684458.0</td>\n",
       "    </tr>\n",
       "    <tr>\n",
       "      <th>2</th>\n",
       "      <td>2021</td>\n",
       "      <td>Bottling_export</td>\n",
       "      <td>5102520.0</td>\n",
       "    </tr>\n",
       "    <tr>\n",
       "      <th>3</th>\n",
       "      <td>2021</td>\n",
       "      <td>Registered_properties</td>\n",
       "      <td>11531.0</td>\n",
       "    </tr>\n",
       "    <tr>\n",
       "      <th>4</th>\n",
       "      <td>2021</td>\n",
       "      <td>Registered_associates</td>\n",
       "      <td>3960.0</td>\n",
       "    </tr>\n",
       "  </tbody>\n",
       "</table>\n",
       "</div>"
      ],
      "text/plain": [
       "   Year              Indicator      Value\n",
       "0  2021      Production_liters  8099591.0\n",
       "1  2021      Bottling_national  3684458.0\n",
       "2  2021        Bottling_export  5102520.0\n",
       "3  2021  Registered_properties    11531.0\n",
       "4  2021  Registered_associates     3960.0"
      ]
     },
     "metadata": {},
     "output_type": "display_data"
    },
    {
     "data": {
      "application/vnd.microsoft.datawrangler.viewer.v0+json": {
       "columns": [
        {
         "name": "index",
         "rawType": "object",
         "type": "string"
        },
        {
         "name": "0",
         "rawType": "object",
         "type": "unknown"
        }
       ],
       "ref": "831ec171-6451-4fd4-a08b-e37566a4b55f",
       "rows": [
        [
         "Year",
         "Int64"
        ],
        [
         "Indicator",
         "string"
        ],
        [
         "Value",
         "float64"
        ]
       ],
       "shape": {
        "columns": 1,
        "rows": 3
       }
      },
      "text/plain": [
       "Year                  Int64\n",
       "Indicator    string[python]\n",
       "Value               float64\n",
       "dtype: object"
      ]
     },
     "metadata": {},
     "output_type": "display_data"
    },
    {
     "name": "stdout",
     "output_type": "stream",
     "text": [
      "C:\\LABS\\Week8\\Mezcal-final\\data\\processed\\indicators_2021_2024.csv\n"
     ]
    }
   ],
   "source": [
    "path = RAW_DIR / \"comercam\" / \"mezcal_master_indicators_2021_2024.csv\"\n",
    "df = pd.read_csv(path)\n",
    "\n",
    "def csv_mini_clean(df, numeric_cols=None, date_cols=None, dropna_subset=None):\n",
    "    df2 = df.copy()\n",
    "    obj_cols = df2.select_dtypes(include=\"object\").columns\n",
    "    for c in obj_cols:\n",
    "        df2[c] = df2[c].str.strip()\n",
    "    if numeric_cols:\n",
    "        for c in numeric_cols:\n",
    "            df2[c] = pd.to_numeric(df2[c], errors=\"coerce\")\n",
    "    if date_cols:\n",
    "        for c in date_cols:\n",
    "            df2[c] = pd.to_datetime(df2[c], errors=\"coerce\")\n",
    "    df2 = df2.loc[:, ~df2.columns.str.match(r\"^Unnamed\")]\n",
    "    df2 = df2.drop_duplicates()\n",
    "    if dropna_subset:\n",
    "        df2 = df2.dropna(subset=dropna_subset)\n",
    "    return df2\n",
    "\n",
    "clean_ind = csv_mini_clean(\n",
    "    df, numeric_cols=[\"Value\"], dropna_subset=[\"Year\",\"Indicator\",\"Value\"]\n",
    ")\n",
    "clean_ind[\"Year\"] = pd.to_numeric(clean_ind[\"Year\"], errors=\"coerce\").astype(\"Int64\")\n",
    "clean_ind[\"Indicator\"] = clean_ind[\"Indicator\"].astype(\"string\")\n",
    "\n",
    "PROCESSED_DIR.mkdir(parents=True, exist_ok=True)\n",
    "out_path = PROCESSED_DIR / \"indicators_2021_2024.csv\"\n",
    "clean_ind.to_csv(out_path, index=False)\n",
    "\n",
    "display(clean_ind.head())\n",
    "display(clean_ind.dtypes)\n",
    "print(out_path)"
   ]
  },
  {
   "cell_type": "code",
   "execution_count": 11,
   "id": "4adf21fd",
   "metadata": {},
   "outputs": [
    {
     "name": "stdout",
     "output_type": "stream",
     "text": [
      "\n",
      "== PRODUCTION ==\n",
      "shape: (14, 2)\n",
      "years: 2011 → 2024\n",
      "nulls: {'Year': 0, 'Production_liters': 0}\n",
      "negatives in Production_liters : 0\n",
      "dtypes: {'Year': dtype('int64'), 'Production_liters': dtype('float64')}\n",
      "\n",
      "== EXPORT ==\n",
      "shape: (14, 2)\n",
      "years: 2011 → 2024\n",
      "nulls: {'Year': 0, 'Liters': 0}\n",
      "negatives in Liters : 0\n",
      "dtypes: {'Year': dtype('int64'), 'Liters': dtype('int64')}\n",
      "\n",
      "== NATIONAL ==\n",
      "shape: (14, 2)\n",
      "years: 2011 → 2024\n",
      "nulls: {'Year': 0, 'Liters': 0}\n",
      "negatives in Liters : 0\n",
      "dtypes: {'Year': dtype('int64'), 'Liters': dtype('int64')}\n",
      "\n",
      "== INDICATORS ==\n",
      "shape: (37, 3)\n",
      "years: 2021 → 2024\n",
      "nulls: {'Year': 0, 'Indicator': 0, 'Value': 0}\n",
      "negatives in Value : 0\n",
      "dtypes: {'Year': dtype('int64'), 'Indicator': dtype('O'), 'Value': dtype('float64')}\n",
      "\n",
      "Common years export vs national: [2011, 2012, 2013] ... [2022, 2023, 2024] (n= 14 )\n"
     ]
    }
   ],
   "source": [
    "pp = PROCESSED_DIR\n",
    "\n",
    "prod = pd.read_csv(pp / \"production_2005_2024.csv\")\n",
    "exp  = pd.read_csv(pp / \"bottling_export_2011_2024.csv\")\n",
    "nat  = pd.read_csv(pp / \"bottling_national_2011_2024.csv\")\n",
    "ind  = pd.read_csv(pp / \"indicators_2021_2024.csv\")\n",
    "\n",
    "def quick_report(name, df, val_col):\n",
    "    print(f\"\\n== {name} ==\")\n",
    "    print(\"shape:\", df.shape)\n",
    "    print(\"years:\", int(df[\"Year\"].min()), \"→\", int(df[\"Year\"].max()))\n",
    "    print(\"nulls:\", df.isnull().sum().to_dict())\n",
    "    print(\"negatives in\", val_col, \":\", int((df[val_col] < 0).sum()) if val_col in df.columns else \"n/a\")\n",
    "    print(\"dtypes:\", df.dtypes.to_dict())\n",
    "\n",
    "quick_report(\"PRODUCTION\", prod, \"Production_liters\")\n",
    "quick_report(\"EXPORT\", exp, \"Liters\")\n",
    "quick_report(\"NATIONAL\", nat, \"Liters\")\n",
    "quick_report(\"INDICATORS\", ind, \"Value\")\n",
    "\n",
    "common_years = sorted(set(exp[\"Year\"].dropna().astype(int)).intersection(set(nat[\"Year\"].dropna().astype(int))))\n",
    "print(\"\\nCommon years export vs national:\", common_years[:3], \"...\", common_years[-3:], \"(n=\", len(common_years), \")\")"
   ]
  },
  {
   "cell_type": "code",
   "execution_count": 12,
   "id": "343505e2",
   "metadata": {},
   "outputs": [
    {
     "name": "stdout",
     "output_type": "stream",
     "text": [
      "=== SUMMARY ===\n"
     ]
    },
    {
     "data": {
      "application/vnd.microsoft.datawrangler.viewer.v0+json": {
       "columns": [
        {
         "name": "index",
         "rawType": "int64",
         "type": "integer"
        },
        {
         "name": "Series",
         "rawType": "object",
         "type": "string"
        },
        {
         "name": "Start year",
         "rawType": "int64",
         "type": "integer"
        },
        {
         "name": "End year",
         "rawType": "int64",
         "type": "integer"
        },
        {
         "name": "Start value",
         "rawType": "float64",
         "type": "float"
        },
        {
         "name": "End value",
         "rawType": "float64",
         "type": "float"
        },
        {
         "name": "CAGR_%",
         "rawType": "float64",
         "type": "float"
        }
       ],
       "ref": "08b5d2dc-f454-4df8-95d1-ae2b6597f0e6",
       "rows": [
        [
         "0",
         "Production",
         "2011",
         "2024",
         "980375.0",
         "11362436.0",
         "20.74"
        ],
        [
         "1",
         "Bottling Export",
         "2011",
         "2024",
         "647989.0",
         "7574530.0",
         "20.82"
        ],
        [
         "2",
         "Bottling National",
         "2011",
         "2024",
         "270426.0",
         "3793310.0",
         "22.53"
        ]
       ],
       "shape": {
        "columns": 6,
        "rows": 3
       }
      },
      "text/html": [
       "<div>\n",
       "<style scoped>\n",
       "    .dataframe tbody tr th:only-of-type {\n",
       "        vertical-align: middle;\n",
       "    }\n",
       "\n",
       "    .dataframe tbody tr th {\n",
       "        vertical-align: top;\n",
       "    }\n",
       "\n",
       "    .dataframe thead th {\n",
       "        text-align: right;\n",
       "    }\n",
       "</style>\n",
       "<table border=\"1\" class=\"dataframe\">\n",
       "  <thead>\n",
       "    <tr style=\"text-align: right;\">\n",
       "      <th></th>\n",
       "      <th>Series</th>\n",
       "      <th>Start year</th>\n",
       "      <th>End year</th>\n",
       "      <th>Start value</th>\n",
       "      <th>End value</th>\n",
       "      <th>CAGR_%</th>\n",
       "    </tr>\n",
       "  </thead>\n",
       "  <tbody>\n",
       "    <tr>\n",
       "      <th>0</th>\n",
       "      <td>Production</td>\n",
       "      <td>2011</td>\n",
       "      <td>2024</td>\n",
       "      <td>980375.0</td>\n",
       "      <td>11362436.0</td>\n",
       "      <td>20.74</td>\n",
       "    </tr>\n",
       "    <tr>\n",
       "      <th>1</th>\n",
       "      <td>Bottling Export</td>\n",
       "      <td>2011</td>\n",
       "      <td>2024</td>\n",
       "      <td>647989.0</td>\n",
       "      <td>7574530.0</td>\n",
       "      <td>20.82</td>\n",
       "    </tr>\n",
       "    <tr>\n",
       "      <th>2</th>\n",
       "      <td>Bottling National</td>\n",
       "      <td>2011</td>\n",
       "      <td>2024</td>\n",
       "      <td>270426.0</td>\n",
       "      <td>3793310.0</td>\n",
       "      <td>22.53</td>\n",
       "    </tr>\n",
       "  </tbody>\n",
       "</table>\n",
       "</div>"
      ],
      "text/plain": [
       "              Series  Start year  End year  Start value   End value  CAGR_%\n",
       "0         Production        2011      2024     980375.0  11362436.0   20.74\n",
       "1    Bottling Export        2011      2024     647989.0   7574530.0   20.82\n",
       "2  Bottling National        2011      2024     270426.0   3793310.0   22.53"
      ]
     },
     "metadata": {},
     "output_type": "display_data"
    },
    {
     "name": "stdout",
     "output_type": "stream",
     "text": [
      "\n",
      "=== Last 3 years — YoY % ===\n"
     ]
    },
    {
     "data": {
      "application/vnd.microsoft.datawrangler.viewer.v0+json": {
       "columns": [
        {
         "name": "index",
         "rawType": "int64",
         "type": "integer"
        },
        {
         "name": "Year",
         "rawType": "int64",
         "type": "integer"
        },
        {
         "name": "YoY_%",
         "rawType": "float64",
         "type": "float"
        },
        {
         "name": "Series",
         "rawType": "object",
         "type": "string"
        }
       ],
       "ref": "ddd8c20f-3664-455c-aa2d-d93dba72c22f",
       "rows": [
        [
         "11",
         "2022",
         "74.89160872444054",
         "Production"
        ],
        [
         "12",
         "2023",
         "-13.595350112826898",
         "Production"
        ],
        [
         "13",
         "2024",
         "-7.167023907128101",
         "Production"
        ]
       ],
       "shape": {
        "columns": 3,
        "rows": 3
       }
      },
      "text/html": [
       "<div>\n",
       "<style scoped>\n",
       "    .dataframe tbody tr th:only-of-type {\n",
       "        vertical-align: middle;\n",
       "    }\n",
       "\n",
       "    .dataframe tbody tr th {\n",
       "        vertical-align: top;\n",
       "    }\n",
       "\n",
       "    .dataframe thead th {\n",
       "        text-align: right;\n",
       "    }\n",
       "</style>\n",
       "<table border=\"1\" class=\"dataframe\">\n",
       "  <thead>\n",
       "    <tr style=\"text-align: right;\">\n",
       "      <th></th>\n",
       "      <th>Year</th>\n",
       "      <th>YoY_%</th>\n",
       "      <th>Series</th>\n",
       "    </tr>\n",
       "  </thead>\n",
       "  <tbody>\n",
       "    <tr>\n",
       "      <th>11</th>\n",
       "      <td>2022</td>\n",
       "      <td>74.891609</td>\n",
       "      <td>Production</td>\n",
       "    </tr>\n",
       "    <tr>\n",
       "      <th>12</th>\n",
       "      <td>2023</td>\n",
       "      <td>-13.595350</td>\n",
       "      <td>Production</td>\n",
       "    </tr>\n",
       "    <tr>\n",
       "      <th>13</th>\n",
       "      <td>2024</td>\n",
       "      <td>-7.167024</td>\n",
       "      <td>Production</td>\n",
       "    </tr>\n",
       "  </tbody>\n",
       "</table>\n",
       "</div>"
      ],
      "text/plain": [
       "    Year      YoY_%      Series\n",
       "11  2022  74.891609  Production\n",
       "12  2023 -13.595350  Production\n",
       "13  2024  -7.167024  Production"
      ]
     },
     "metadata": {},
     "output_type": "display_data"
    },
    {
     "data": {
      "application/vnd.microsoft.datawrangler.viewer.v0+json": {
       "columns": [
        {
         "name": "index",
         "rawType": "int64",
         "type": "integer"
        },
        {
         "name": "Year",
         "rawType": "int64",
         "type": "integer"
        },
        {
         "name": "YoY_%",
         "rawType": "float64",
         "type": "float"
        },
        {
         "name": "Series",
         "rawType": "object",
         "type": "string"
        }
       ],
       "ref": "5b01612a-2b39-49df-aa92-239a2e40722e",
       "rows": [
        [
         "11",
         "2022",
         "72.20859496876054",
         "Export"
        ],
        [
         "12",
         "2023",
         "-21.340419880418505",
         "Export"
        ],
        [
         "13",
         "2024",
         "9.588385080586814",
         "Export"
        ]
       ],
       "shape": {
        "columns": 3,
        "rows": 3
       }
      },
      "text/html": [
       "<div>\n",
       "<style scoped>\n",
       "    .dataframe tbody tr th:only-of-type {\n",
       "        vertical-align: middle;\n",
       "    }\n",
       "\n",
       "    .dataframe tbody tr th {\n",
       "        vertical-align: top;\n",
       "    }\n",
       "\n",
       "    .dataframe thead th {\n",
       "        text-align: right;\n",
       "    }\n",
       "</style>\n",
       "<table border=\"1\" class=\"dataframe\">\n",
       "  <thead>\n",
       "    <tr style=\"text-align: right;\">\n",
       "      <th></th>\n",
       "      <th>Year</th>\n",
       "      <th>YoY_%</th>\n",
       "      <th>Series</th>\n",
       "    </tr>\n",
       "  </thead>\n",
       "  <tbody>\n",
       "    <tr>\n",
       "      <th>11</th>\n",
       "      <td>2022</td>\n",
       "      <td>72.208595</td>\n",
       "      <td>Export</td>\n",
       "    </tr>\n",
       "    <tr>\n",
       "      <th>12</th>\n",
       "      <td>2023</td>\n",
       "      <td>-21.340420</td>\n",
       "      <td>Export</td>\n",
       "    </tr>\n",
       "    <tr>\n",
       "      <th>13</th>\n",
       "      <td>2024</td>\n",
       "      <td>9.588385</td>\n",
       "      <td>Export</td>\n",
       "    </tr>\n",
       "  </tbody>\n",
       "</table>\n",
       "</div>"
      ],
      "text/plain": [
       "    Year      YoY_%  Series\n",
       "11  2022  72.208595  Export\n",
       "12  2023 -21.340420  Export\n",
       "13  2024   9.588385  Export"
      ]
     },
     "metadata": {},
     "output_type": "display_data"
    },
    {
     "data": {
      "application/vnd.microsoft.datawrangler.viewer.v0+json": {
       "columns": [
        {
         "name": "index",
         "rawType": "int64",
         "type": "integer"
        },
        {
         "name": "Year",
         "rawType": "int64",
         "type": "integer"
        },
        {
         "name": "YoY_%",
         "rawType": "float64",
         "type": "float"
        },
        {
         "name": "Series",
         "rawType": "object",
         "type": "string"
        }
       ],
       "ref": "9dd35f0e-d59a-4376-a354-a955aed0a16c",
       "rows": [
        [
         "11",
         "2022",
         "138.4876690140042",
         "National"
        ],
        [
         "12",
         "2023",
         "-39.36636691249256",
         "National"
        ],
        [
         "13",
         "2024",
         "-28.80242438620806",
         "National"
        ]
       ],
       "shape": {
        "columns": 3,
        "rows": 3
       }
      },
      "text/html": [
       "<div>\n",
       "<style scoped>\n",
       "    .dataframe tbody tr th:only-of-type {\n",
       "        vertical-align: middle;\n",
       "    }\n",
       "\n",
       "    .dataframe tbody tr th {\n",
       "        vertical-align: top;\n",
       "    }\n",
       "\n",
       "    .dataframe thead th {\n",
       "        text-align: right;\n",
       "    }\n",
       "</style>\n",
       "<table border=\"1\" class=\"dataframe\">\n",
       "  <thead>\n",
       "    <tr style=\"text-align: right;\">\n",
       "      <th></th>\n",
       "      <th>Year</th>\n",
       "      <th>YoY_%</th>\n",
       "      <th>Series</th>\n",
       "    </tr>\n",
       "  </thead>\n",
       "  <tbody>\n",
       "    <tr>\n",
       "      <th>11</th>\n",
       "      <td>2022</td>\n",
       "      <td>138.487669</td>\n",
       "      <td>National</td>\n",
       "    </tr>\n",
       "    <tr>\n",
       "      <th>12</th>\n",
       "      <td>2023</td>\n",
       "      <td>-39.366367</td>\n",
       "      <td>National</td>\n",
       "    </tr>\n",
       "    <tr>\n",
       "      <th>13</th>\n",
       "      <td>2024</td>\n",
       "      <td>-28.802424</td>\n",
       "      <td>National</td>\n",
       "    </tr>\n",
       "  </tbody>\n",
       "</table>\n",
       "</div>"
      ],
      "text/plain": [
       "    Year       YoY_%    Series\n",
       "11  2022  138.487669  National\n",
       "12  2023  -39.366367  National\n",
       "13  2024  -28.802424  National"
      ]
     },
     "metadata": {},
     "output_type": "display_data"
    },
    {
     "name": "stdout",
     "output_type": "stream",
     "text": [
      "\n",
      "=== Export share of total bottling (last 5 years) ===\n"
     ]
    },
    {
     "data": {
      "application/vnd.microsoft.datawrangler.viewer.v0+json": {
       "columns": [
        {
         "name": "index",
         "rawType": "int64",
         "type": "integer"
        },
        {
         "name": "Year",
         "rawType": "int64",
         "type": "integer"
        },
        {
         "name": "Export_share_%",
         "rawType": "float64",
         "type": "float"
        }
       ],
       "ref": "2038ee56-27c7-4263-9040-2494f0b56cc2",
       "rows": [
        [
         "9",
         "2020",
         "66.58"
        ],
        [
         "10",
         "2021",
         "58.07"
        ],
        [
         "11",
         "2022",
         "50.0"
        ],
        [
         "12",
         "2023",
         "56.47"
        ],
        [
         "13",
         "2024",
         "66.63"
        ]
       ],
       "shape": {
        "columns": 2,
        "rows": 5
       }
      },
      "text/html": [
       "<div>\n",
       "<style scoped>\n",
       "    .dataframe tbody tr th:only-of-type {\n",
       "        vertical-align: middle;\n",
       "    }\n",
       "\n",
       "    .dataframe tbody tr th {\n",
       "        vertical-align: top;\n",
       "    }\n",
       "\n",
       "    .dataframe thead th {\n",
       "        text-align: right;\n",
       "    }\n",
       "</style>\n",
       "<table border=\"1\" class=\"dataframe\">\n",
       "  <thead>\n",
       "    <tr style=\"text-align: right;\">\n",
       "      <th></th>\n",
       "      <th>Year</th>\n",
       "      <th>Export_share_%</th>\n",
       "    </tr>\n",
       "  </thead>\n",
       "  <tbody>\n",
       "    <tr>\n",
       "      <th>9</th>\n",
       "      <td>2020</td>\n",
       "      <td>66.58</td>\n",
       "    </tr>\n",
       "    <tr>\n",
       "      <th>10</th>\n",
       "      <td>2021</td>\n",
       "      <td>58.07</td>\n",
       "    </tr>\n",
       "    <tr>\n",
       "      <th>11</th>\n",
       "      <td>2022</td>\n",
       "      <td>50.00</td>\n",
       "    </tr>\n",
       "    <tr>\n",
       "      <th>12</th>\n",
       "      <td>2023</td>\n",
       "      <td>56.47</td>\n",
       "    </tr>\n",
       "    <tr>\n",
       "      <th>13</th>\n",
       "      <td>2024</td>\n",
       "      <td>66.63</td>\n",
       "    </tr>\n",
       "  </tbody>\n",
       "</table>\n",
       "</div>"
      ],
      "text/plain": [
       "    Year  Export_share_%\n",
       "9   2020           66.58\n",
       "10  2021           58.07\n",
       "11  2022           50.00\n",
       "12  2023           56.47\n",
       "13  2024           66.63"
      ]
     },
     "metadata": {},
     "output_type": "display_data"
    }
   ],
   "source": [
    "pp = PROCESSED_DIR\n",
    "\n",
    "prod = pd.read_csv(pp / \"production_2005_2024.csv\")\n",
    "exp  = pd.read_csv(pp / \"bottling_export_2011_2024.csv\")\n",
    "nat  = pd.read_csv(pp / \"bottling_national_2011_2024.csv\")\n",
    "\n",
    "for df in (prod, exp, nat):\n",
    "    df[\"Year\"] = df[\"Year\"].astype(int)\n",
    "\n",
    "def add_yoy(df, value_col):\n",
    "    df = df.sort_values(\"Year\").copy()\n",
    "    df[\"YoY_%\"] = df[value_col].pct_change() * 100\n",
    "    return df\n",
    "\n",
    "def cagr(df, value_col):\n",
    "    d = df.sort_values(\"Year\").dropna(subset=[value_col])\n",
    "    y0, y1 = int(d[\"Year\"].iloc[0]), int(d[\"Year\"].iloc[-1])\n",
    "    n = y1 - y0\n",
    "    v0, v1 = float(d[value_col].iloc[0]), float(d[value_col].iloc[-1])\n",
    "    return np.nan if n <= 0 or v0 <= 0 else (v1 / v0) ** (1 / n) - 1\n",
    "\n",
    "prod_r = add_yoy(prod, \"Production_liters\")\n",
    "exp_r  = add_yoy(exp,  \"Liters\")\n",
    "nat_r  = add_yoy(nat,  \"Liters\")\n",
    "\n",
    "prod_cagr = cagr(prod_r, \"Production_liters\")\n",
    "exp_cagr  = cagr(exp_r,  \"Liters\")\n",
    "nat_cagr  = cagr(nat_r,  \"Liters\")\n",
    "\n",
    "bot = exp.merge(nat, on=\"Year\", suffixes=(\"_export\",\"_national\"))\n",
    "bot[\"Total_bottling\"]   = bot[\"Liters_export\"] + bot[\"Liters_national\"]\n",
    "bot[\"Export_share_%\"]   = bot[\"Liters_export\"] / bot[\"Total_bottling\"] * 100\n",
    "\n",
    "summary = pd.DataFrame({\n",
    "    \"Series\": [\"Production\", \"Bottling Export\", \"Bottling National\"],\n",
    "    \"Start year\": [prod_r[\"Year\"].min(), exp_r[\"Year\"].min(), nat_r[\"Year\"].min()],\n",
    "    \"End year\":   [prod_r[\"Year\"].max(), exp_r[\"Year\"].max(), nat_r[\"Year\"].max()],\n",
    "    \"Start value\": [prod_r.iloc[0][\"Production_liters\"], exp_r.iloc[0][\"Liters\"], nat_r.iloc[0][\"Liters\"]],\n",
    "    \"End value\":   [prod_r.iloc[-1][\"Production_liters\"], exp_r.iloc[-1][\"Liters\"], nat_r.iloc[-1][\"Liters\"]],\n",
    "    \"CAGR_%\": [None if pd.isna(prod_cagr) else prod_cagr*100,\n",
    "               None if pd.isna(exp_cagr)  else exp_cagr*100,\n",
    "               None if pd.isna(nat_cagr)  else nat_cagr*100]\n",
    "})\n",
    "\n",
    "print(\"=== SUMMARY ===\")\n",
    "display(summary.round(2))\n",
    "\n",
    "print(\"\\n=== Last 3 years — YoY % ===\")\n",
    "display(prod_r[[\"Year\",\"YoY_%\"]].tail(3).assign(Series=\"Production\"))\n",
    "display(exp_r[[\"Year\",\"YoY_%\"]].tail(3).assign(Series=\"Export\"))\n",
    "display(nat_r[[\"Year\",\"YoY_%\"]].tail(3).assign(Series=\"National\"))\n",
    "\n",
    "print(\"\\n=== Export share of total bottling (last 5 years) ===\")\n",
    "display(bot.sort_values(\"Year\")[[\"Year\",\"Export_share_%\"]].tail(5).round(2))"
   ]
  },
  {
   "cell_type": "code",
   "execution_count": 18,
   "id": "dfce9fbf",
   "metadata": {},
   "outputs": [
    {
     "data": {
      "application/vnd.microsoft.datawrangler.viewer.v0+json": {
       "columns": [
        {
         "name": "index",
         "rawType": "int64",
         "type": "integer"
        },
        {
         "name": "Year",
         "rawType": "int64",
         "type": "integer"
        },
        {
         "name": "Export_brands",
         "rawType": "int64",
         "type": "integer"
        }
       ],
       "ref": "d18dded0-2638-4f2b-8b6c-a6316eda2050",
       "rows": [
        [
         "0",
         "2011",
         "68"
        ],
        [
         "1",
         "2024",
         "408"
        ]
       ],
       "shape": {
        "columns": 2,
        "rows": 2
       }
      },
      "text/html": [
       "<div>\n",
       "<style scoped>\n",
       "    .dataframe tbody tr th:only-of-type {\n",
       "        vertical-align: middle;\n",
       "    }\n",
       "\n",
       "    .dataframe tbody tr th {\n",
       "        vertical-align: top;\n",
       "    }\n",
       "\n",
       "    .dataframe thead th {\n",
       "        text-align: right;\n",
       "    }\n",
       "</style>\n",
       "<table border=\"1\" class=\"dataframe\">\n",
       "  <thead>\n",
       "    <tr style=\"text-align: right;\">\n",
       "      <th></th>\n",
       "      <th>Year</th>\n",
       "      <th>Export_brands</th>\n",
       "    </tr>\n",
       "  </thead>\n",
       "  <tbody>\n",
       "    <tr>\n",
       "      <th>0</th>\n",
       "      <td>2011</td>\n",
       "      <td>68</td>\n",
       "    </tr>\n",
       "    <tr>\n",
       "      <th>1</th>\n",
       "      <td>2024</td>\n",
       "      <td>408</td>\n",
       "    </tr>\n",
       "  </tbody>\n",
       "</table>\n",
       "</div>"
      ],
      "text/plain": [
       "   Year  Export_brands\n",
       "0  2011             68\n",
       "1  2024            408"
      ]
     },
     "metadata": {},
     "output_type": "display_data"
    },
    {
     "data": {
      "application/vnd.microsoft.datawrangler.viewer.v0+json": {
       "columns": [
        {
         "name": "index",
         "rawType": "object",
         "type": "string"
        },
        {
         "name": "0",
         "rawType": "object",
         "type": "unknown"
        }
       ],
       "ref": "1e229115-0a28-48c4-8b30-bb3c3ad84932",
       "rows": [
        [
         "Year",
         "int64"
        ],
        [
         "Export_brands",
         "int64"
        ]
       ],
       "shape": {
        "columns": 1,
        "rows": 2
       }
      },
      "text/plain": [
       "Year             int64\n",
       "Export_brands    int64\n",
       "dtype: object"
      ]
     },
     "metadata": {},
     "output_type": "display_data"
    },
    {
     "name": "stdout",
     "output_type": "stream",
     "text": [
      "C:\\LABS\\Week8\\Mezcal-final\\data\\processed\\brands_export_growth_2011_2024.csv\n"
     ]
    }
   ],
   "source": [
    "# Clean Interciencia - Economic impact\n",
    "path = RAW_DIR / \"interciencia_magazine\" / \"mezcal_brands_export_growth_2011_2024.csv\"\n",
    "df = pd.read_csv(path)\n",
    "\n",
    "def csv_mini_clean(df, numeric_cols=None, date_cols=None, dropna_subset=None):\n",
    "    df2 = df.copy()\n",
    "    obj_cols = df2.select_dtypes(include=\"object\").columns\n",
    "    for c in obj_cols: df2[c] = df2[c].str.strip()\n",
    "    if numeric_cols:\n",
    "        for c in numeric_cols: df2[c] = pd.to_numeric(df2[c], errors=\"coerce\")\n",
    "    if date_cols:\n",
    "        for c in date_cols: df2[c] = pd.to_datetime(df2[c], errors=\"coerce\")\n",
    "    df2 = df2.loc[:, ~df2.columns.str.match(r\"^Unnamed\")]\n",
    "    df2 = df2.drop_duplicates()\n",
    "    if dropna_subset: df2 = df2.dropna(subset=dropna_subset)\n",
    "    return df2\n",
    "\n",
    "clean_brands = csv_mini_clean(df, numeric_cols=None, dropna_subset=[\"Year\"])\n",
    "if \"Brands\" in clean_brands.columns:\n",
    "    clean_brands[\"Brands\"] = pd.to_numeric(clean_brands[\"Brands\"], errors=\"coerce\").astype(\"Int64\")\n",
    "if \"Export_liters\" in clean_brands.columns:\n",
    "    clean_brands[\"Export_liters\"] = pd.to_numeric(clean_brands[\"Export_liters\"], errors=\"coerce\")\n",
    "\n",
    "PROCESSED_DIR.mkdir(parents=True, exist_ok=True)\n",
    "out_path = PROCESSED_DIR / \"brands_export_growth_2011_2024.csv\"\n",
    "clean_brands.to_csv(out_path, index=False)\n",
    "\n",
    "display(clean_brands.head())\n",
    "display(clean_brands.dtypes)\n",
    "print(out_path)"
   ]
  },
  {
   "cell_type": "code",
   "execution_count": 21,
   "id": "0dd82949",
   "metadata": {},
   "outputs": [
    {
     "name": "stdout",
     "output_type": "stream",
     "text": [
      "['Period', 'Production_liters', 'Economic_value_million_pesos', 'Direct_employment', 'Indirect_employment']\n"
     ]
    },
    {
     "data": {
      "application/vnd.microsoft.datawrangler.viewer.v0+json": {
       "columns": [
        {
         "name": "index",
         "rawType": "int64",
         "type": "integer"
        },
        {
         "name": "Period",
         "rawType": "object",
         "type": "string"
        },
        {
         "name": "Production_liters",
         "rawType": "int64",
         "type": "integer"
        },
        {
         "name": "Economic_value_million_pesos",
         "rawType": "int64",
         "type": "integer"
        },
        {
         "name": "Direct_employment",
         "rawType": "int64",
         "type": "integer"
        },
        {
         "name": "Indirect_employment",
         "rawType": "int64",
         "type": "integer"
        }
       ],
       "ref": "34d5e780-a6a9-4d42-9838-c7104a0093a5",
       "rows": [
        [
         "0",
         "2010-2023",
         "12239655",
         "36162",
         "55000",
         "210000"
        ]
       ],
       "shape": {
        "columns": 5,
        "rows": 1
       }
      },
      "text/html": [
       "<div>\n",
       "<style scoped>\n",
       "    .dataframe tbody tr th:only-of-type {\n",
       "        vertical-align: middle;\n",
       "    }\n",
       "\n",
       "    .dataframe tbody tr th {\n",
       "        vertical-align: top;\n",
       "    }\n",
       "\n",
       "    .dataframe thead th {\n",
       "        text-align: right;\n",
       "    }\n",
       "</style>\n",
       "<table border=\"1\" class=\"dataframe\">\n",
       "  <thead>\n",
       "    <tr style=\"text-align: right;\">\n",
       "      <th></th>\n",
       "      <th>Period</th>\n",
       "      <th>Production_liters</th>\n",
       "      <th>Economic_value_million_pesos</th>\n",
       "      <th>Direct_employment</th>\n",
       "      <th>Indirect_employment</th>\n",
       "    </tr>\n",
       "  </thead>\n",
       "  <tbody>\n",
       "    <tr>\n",
       "      <th>0</th>\n",
       "      <td>2010-2023</td>\n",
       "      <td>12239655</td>\n",
       "      <td>36162</td>\n",
       "      <td>55000</td>\n",
       "      <td>210000</td>\n",
       "    </tr>\n",
       "  </tbody>\n",
       "</table>\n",
       "</div>"
      ],
      "text/plain": [
       "      Period  Production_liters  Economic_value_million_pesos  Direct_employment  Indirect_employment\n",
       "0  2010-2023           12239655                         36162              55000               210000"
      ]
     },
     "metadata": {},
     "output_type": "display_data"
    }
   ],
   "source": [
    "path = RAW_DIR / \"interciencia_magazine\" / \"mezcal_economic_impact_2010_2023.csv\"\n",
    "df_raw = pd.read_csv(path)\n",
    "print(list(df_raw.columns))\n",
    "display(df_raw.head())"
   ]
  },
  {
   "cell_type": "code",
   "execution_count": 23,
   "id": "453db855",
   "metadata": {},
   "outputs": [
    {
     "data": {
      "application/vnd.microsoft.datawrangler.viewer.v0+json": {
       "columns": [
        {
         "name": "index",
         "rawType": "int64",
         "type": "integer"
        },
        {
         "name": "Period",
         "rawType": "object",
         "type": "string"
        },
        {
         "name": "Production_liters",
         "rawType": "int64",
         "type": "integer"
        },
        {
         "name": "Economic_value_million_pesos",
         "rawType": "int64",
         "type": "integer"
        },
        {
         "name": "Direct_employment",
         "rawType": "int64",
         "type": "integer"
        },
        {
         "name": "Indirect_employment",
         "rawType": "int64",
         "type": "integer"
        }
       ],
       "ref": "831b9ee7-09fe-4524-9206-640abb521b2c",
       "rows": [
        [
         "0",
         "2010-2023",
         "12239655",
         "36162",
         "55000",
         "210000"
        ]
       ],
       "shape": {
        "columns": 5,
        "rows": 1
       }
      },
      "text/html": [
       "<div>\n",
       "<style scoped>\n",
       "    .dataframe tbody tr th:only-of-type {\n",
       "        vertical-align: middle;\n",
       "    }\n",
       "\n",
       "    .dataframe tbody tr th {\n",
       "        vertical-align: top;\n",
       "    }\n",
       "\n",
       "    .dataframe thead th {\n",
       "        text-align: right;\n",
       "    }\n",
       "</style>\n",
       "<table border=\"1\" class=\"dataframe\">\n",
       "  <thead>\n",
       "    <tr style=\"text-align: right;\">\n",
       "      <th></th>\n",
       "      <th>Period</th>\n",
       "      <th>Production_liters</th>\n",
       "      <th>Economic_value_million_pesos</th>\n",
       "      <th>Direct_employment</th>\n",
       "      <th>Indirect_employment</th>\n",
       "    </tr>\n",
       "  </thead>\n",
       "  <tbody>\n",
       "    <tr>\n",
       "      <th>0</th>\n",
       "      <td>2010-2023</td>\n",
       "      <td>12239655</td>\n",
       "      <td>36162</td>\n",
       "      <td>55000</td>\n",
       "      <td>210000</td>\n",
       "    </tr>\n",
       "  </tbody>\n",
       "</table>\n",
       "</div>"
      ],
      "text/plain": [
       "      Period  Production_liters  Economic_value_million_pesos  Direct_employment  Indirect_employment\n",
       "0  2010-2023           12239655                         36162              55000               210000"
      ]
     },
     "metadata": {},
     "output_type": "display_data"
    },
    {
     "data": {
      "application/vnd.microsoft.datawrangler.viewer.v0+json": {
       "columns": [
        {
         "name": "index",
         "rawType": "object",
         "type": "string"
        },
        {
         "name": "0",
         "rawType": "object",
         "type": "unknown"
        }
       ],
       "ref": "c9ef742c-6523-4fc0-a5e8-34506795941e",
       "rows": [
        [
         "Period",
         "object"
        ],
        [
         "Production_liters",
         "int64"
        ],
        [
         "Economic_value_million_pesos",
         "int64"
        ],
        [
         "Direct_employment",
         "int64"
        ],
        [
         "Indirect_employment",
         "int64"
        ]
       ],
       "shape": {
        "columns": 1,
        "rows": 5
       }
      },
      "text/plain": [
       "Period                          object\n",
       "Production_liters                int64\n",
       "Economic_value_million_pesos     int64\n",
       "Direct_employment                int64\n",
       "Indirect_employment              int64\n",
       "dtype: object"
      ]
     },
     "metadata": {},
     "output_type": "display_data"
    },
    {
     "name": "stdout",
     "output_type": "stream",
     "text": [
      "C:\\LABS\\Week8\\Mezcal-final\\data\\processed\\economic_impact_2010_2023_wide.csv\n"
     ]
    }
   ],
   "source": [
    "# Interciencia Economic impact \n",
    "path = RAW_DIR / \"interciencia_magazine\" / \"mezcal_economic_impact_2010_2023.csv\"\n",
    "df = pd.read_csv(path)\n",
    "\n",
    "df.columns = [c.strip().replace(\" \", \"_\") for c in df.columns]\n",
    "num_cols = [c for c in df.columns if c != \"Period\"]\n",
    "for c in num_cols:\n",
    "    df[c] = pd.to_numeric(df[c], errors=\"coerce\")\n",
    "\n",
    "clean_impact_wide = df[[\"Period\"] + num_cols].dropna(how=\"all\").drop_duplicates()\n",
    "\n",
    "PROCESSED_DIR.mkdir(parents=True, exist_ok=True)\n",
    "out_path = PROCESSED_DIR / \"economic_impact_2010_2023_wide.csv\"\n",
    "clean_impact_wide.to_csv(out_path, index=False)\n",
    "\n",
    "display(clean_impact_wide)\n",
    "display(clean_impact_wide.dtypes)\n",
    "print(out_path)"
   ]
  },
  {
   "cell_type": "code",
   "execution_count": 25,
   "id": "476252f1",
   "metadata": {},
   "outputs": [
    {
     "name": "stdout",
     "output_type": "stream",
     "text": [
      "shape: (4, 2)\n",
      "columns: ['Strategy', 'Mainly_applied_by']\n",
      "Strategy             object\n",
      "Mainly_applied_by    object\n",
      "dtype: object\n"
     ]
    },
    {
     "data": {
      "application/vnd.microsoft.datawrangler.viewer.v0+json": {
       "columns": [
        {
         "name": "index",
         "rawType": "int64",
         "type": "integer"
        },
        {
         "name": "Strategy",
         "rawType": "object",
         "type": "string"
        },
        {
         "name": "Mainly_applied_by",
         "rawType": "object",
         "type": "string"
        }
       ],
       "ref": "2e64a467-6b43-4fff-948a-0c575548c37c",
       "rows": [
        [
         "0",
         "Low_cost_leadership",
         "Bottlers"
        ],
        [
         "1",
         "Differentiation",
         "Producers"
        ],
        [
         "2",
         "Customer_service",
         "Both"
        ],
        [
         "3",
         "Product_presentation",
         "Both"
        ]
       ],
       "shape": {
        "columns": 2,
        "rows": 4
       }
      },
      "text/html": [
       "<div>\n",
       "<style scoped>\n",
       "    .dataframe tbody tr th:only-of-type {\n",
       "        vertical-align: middle;\n",
       "    }\n",
       "\n",
       "    .dataframe tbody tr th {\n",
       "        vertical-align: top;\n",
       "    }\n",
       "\n",
       "    .dataframe thead th {\n",
       "        text-align: right;\n",
       "    }\n",
       "</style>\n",
       "<table border=\"1\" class=\"dataframe\">\n",
       "  <thead>\n",
       "    <tr style=\"text-align: right;\">\n",
       "      <th></th>\n",
       "      <th>Strategy</th>\n",
       "      <th>Mainly_applied_by</th>\n",
       "    </tr>\n",
       "  </thead>\n",
       "  <tbody>\n",
       "    <tr>\n",
       "      <th>0</th>\n",
       "      <td>Low_cost_leadership</td>\n",
       "      <td>Bottlers</td>\n",
       "    </tr>\n",
       "    <tr>\n",
       "      <th>1</th>\n",
       "      <td>Differentiation</td>\n",
       "      <td>Producers</td>\n",
       "    </tr>\n",
       "    <tr>\n",
       "      <th>2</th>\n",
       "      <td>Customer_service</td>\n",
       "      <td>Both</td>\n",
       "    </tr>\n",
       "    <tr>\n",
       "      <th>3</th>\n",
       "      <td>Product_presentation</td>\n",
       "      <td>Both</td>\n",
       "    </tr>\n",
       "  </tbody>\n",
       "</table>\n",
       "</div>"
      ],
      "text/plain": [
       "               Strategy Mainly_applied_by\n",
       "0   Low_cost_leadership          Bottlers\n",
       "1       Differentiation         Producers\n",
       "2      Customer_service              Both\n",
       "3  Product_presentation              Both"
      ]
     },
     "metadata": {},
     "output_type": "display_data"
    }
   ],
   "source": [
    "p = RAW_DIR / \"interciencia_magazine\" / \"mezcal_sme_strategies.csv\"\n",
    "d = pd.read_csv(p)\n",
    "\n",
    "print(\"shape:\", d.shape)\n",
    "print(\"columns:\", list(d.columns))\n",
    "print(d.dtypes)\n",
    "display(d.head(10))"
   ]
  },
  {
   "cell_type": "code",
   "execution_count": 26,
   "id": "37116423",
   "metadata": {},
   "outputs": [
    {
     "data": {
      "application/vnd.microsoft.datawrangler.viewer.v0+json": {
       "columns": [
        {
         "name": "index",
         "rawType": "int64",
         "type": "integer"
        },
        {
         "name": "Strategy",
         "rawType": "string",
         "type": "string"
        },
        {
         "name": "Mainly_applied_by",
         "rawType": "object",
         "type": "string"
        }
       ],
       "ref": "746a564b-922a-475b-8df3-2d88609d413e",
       "rows": [
        [
         "0",
         "Low_cost_leadership",
         "Bottlers"
        ],
        [
         "1",
         "Differentiation",
         "Producers"
        ],
        [
         "2",
         "Customer_service",
         "Both"
        ],
        [
         "3",
         "Product_presentation",
         "Both"
        ]
       ],
       "shape": {
        "columns": 2,
        "rows": 4
       }
      },
      "text/html": [
       "<div>\n",
       "<style scoped>\n",
       "    .dataframe tbody tr th:only-of-type {\n",
       "        vertical-align: middle;\n",
       "    }\n",
       "\n",
       "    .dataframe tbody tr th {\n",
       "        vertical-align: top;\n",
       "    }\n",
       "\n",
       "    .dataframe thead th {\n",
       "        text-align: right;\n",
       "    }\n",
       "</style>\n",
       "<table border=\"1\" class=\"dataframe\">\n",
       "  <thead>\n",
       "    <tr style=\"text-align: right;\">\n",
       "      <th></th>\n",
       "      <th>Strategy</th>\n",
       "      <th>Mainly_applied_by</th>\n",
       "    </tr>\n",
       "  </thead>\n",
       "  <tbody>\n",
       "    <tr>\n",
       "      <th>0</th>\n",
       "      <td>Low_cost_leadership</td>\n",
       "      <td>Bottlers</td>\n",
       "    </tr>\n",
       "    <tr>\n",
       "      <th>1</th>\n",
       "      <td>Differentiation</td>\n",
       "      <td>Producers</td>\n",
       "    </tr>\n",
       "    <tr>\n",
       "      <th>2</th>\n",
       "      <td>Customer_service</td>\n",
       "      <td>Both</td>\n",
       "    </tr>\n",
       "    <tr>\n",
       "      <th>3</th>\n",
       "      <td>Product_presentation</td>\n",
       "      <td>Both</td>\n",
       "    </tr>\n",
       "  </tbody>\n",
       "</table>\n",
       "</div>"
      ],
      "text/plain": [
       "               Strategy Mainly_applied_by\n",
       "0   Low_cost_leadership          Bottlers\n",
       "1       Differentiation         Producers\n",
       "2      Customer_service              Both\n",
       "3  Product_presentation              Both"
      ]
     },
     "metadata": {},
     "output_type": "display_data"
    },
    {
     "data": {
      "application/vnd.microsoft.datawrangler.viewer.v0+json": {
       "columns": [
        {
         "name": "index",
         "rawType": "object",
         "type": "string"
        },
        {
         "name": "0",
         "rawType": "object",
         "type": "unknown"
        }
       ],
       "ref": "77ec8c47-822d-4c85-b1d2-38e1cc6f78ce",
       "rows": [
        [
         "Strategy",
         "string"
        ],
        [
         "Mainly_applied_by",
         "object"
        ]
       ],
       "shape": {
        "columns": 1,
        "rows": 2
       }
      },
      "text/plain": [
       "Strategy             string[python]\n",
       "Mainly_applied_by            object\n",
       "dtype: object"
      ]
     },
     "metadata": {},
     "output_type": "display_data"
    },
    {
     "name": "stdout",
     "output_type": "stream",
     "text": [
      "C:\\LABS\\Week8\\Mezcal-final\\data\\processed\\sme_strategies.csv\n"
     ]
    }
   ],
   "source": [
    "# Interciencia SME strategies\n",
    "p = RAW_DIR / \"interciencia_magazine\" / \"mezcal_sme_strategies.csv\"\n",
    "df = pd.read_csv(p)\n",
    "\n",
    "df.columns = [c.strip().replace(\" \", \"_\") for c in df.columns]\n",
    "if \"Strategy\" not in df.columns:\n",
    "    for c in df.columns:\n",
    "        if c.lower() in (\"strategy\",\"strategies\",\"estrategia\",\"estrategias\"):\n",
    "            df = df.rename(columns={c: \"Strategy\"})\n",
    "            break\n",
    "if \"Mainly_applied_by\" not in df.columns:\n",
    "    for c in df.columns:\n",
    "        if c.lower().replace(\" \", \"_\") in (\"mainly_applied_by\",\"aplicada_principalmente_por\"):\n",
    "            df = df.rename(columns={c: \"Mainly_applied_by\"})\n",
    "            break\n",
    "\n",
    "clean_sme = df[[\"Strategy\",\"Mainly_applied_by\"]].dropna(how=\"any\").drop_duplicates()\n",
    "clean_sme[\"Strategy\"] = clean_sme[\"Strategy\"].astype(\"string\").str.strip()\n",
    "clean_sme[\"Mainly_applied_by\"] = (\n",
    "    clean_sme[\"Mainly_applied_by\"]\n",
    "    .astype(\"string\").str.strip().str.lower()\n",
    "    .map({\"bottlers\":\"Bottlers\",\"producers\":\"Producers\",\"both\":\"Both\"})\n",
    "    .fillna(clean_sme[\"Mainly_applied_by\"].str.title())\n",
    ")\n",
    "\n",
    "PROCESSED_DIR.mkdir(parents=True, exist_ok=True)\n",
    "out_path = PROCESSED_DIR / \"sme_strategies.csv\"\n",
    "clean_sme.to_csv(out_path, index=False)\n",
    "\n",
    "display(clean_sme)\n",
    "display(clean_sme.dtypes)\n",
    "print(out_path)"
   ]
  },
  {
   "cell_type": "code",
   "execution_count": 20,
   "id": "67fd246e",
   "metadata": {},
   "outputs": [
    {
     "name": "stdout",
     "output_type": "stream",
     "text": [
      "C:\\LABS\\Week8\\Mezcal-final\\data\\processed\\eu_market_projection.csv\n"
     ]
    }
   ],
   "source": [
    "# Databridge projections\n",
    "path = RAW_DIR / \"databridge_market_research\" / \"europe_mezcal_market_projections.csv\"\n",
    "df = pd.read_csv(path)\n",
    "\n",
    "df2 = df.copy()\n",
    "df2.columns = [c.strip().replace(\" \", \"_\") for c in df2.columns]\n",
    "\n",
    "if \"Year\" not in df2.columns:\n",
    "    for c in df2.columns:\n",
    "        if \"year\" in c.lower():\n",
    "            df2 = df2.rename(columns={c: \"Year\"})\n",
    "            break\n",
    "\n",
    "df2[\"Year\"] = pd.to_numeric(df2[\"Year\"], errors=\"coerce\").astype(\"Int64\")\n",
    "\n",
    "num_cols = [c for c in df2.columns if c != \"Year\" and pd.api.types.is_numeric_dtype(df2[c])]\n",
    "if not num_cols:\n",
    "    for c in [c for c in df2.columns if c != \"Year\"]:\n",
    "        df2[c] = pd.to_numeric(df2[c], errors=\"coerce\")\n",
    "    num_cols = [c for c in df2.columns if c != \"Year\" and pd.api.types.is_numeric_dtype(df2[c])]\n",
    "\n",
    "forecast_col = num_cols[0]\n",
    "clean_proj = df2[[\"Year\", forecast_col]].dropna().drop_duplicates().rename(columns={forecast_col: \"EU_market_projection\"})\n",
    "\n",
    "PROCESSED_DIR.mkdir(parents=True, exist_ok=True)\n",
    "out_path = PROCESSED_DIR / \"eu_market_projection.csv\"\n",
    "clean_proj.to_csv(out_path, index=False)\n",
    "print(out_path)"
   ]
  },
  {
   "cell_type": "code",
   "execution_count": 27,
   "id": "1b5d7aff",
   "metadata": {},
   "outputs": [
    {
     "data": {
      "application/vnd.microsoft.datawrangler.viewer.v0+json": {
       "columns": [
        {
         "name": "index",
         "rawType": "int64",
         "type": "integer"
        },
        {
         "name": "Year",
         "rawType": "int64",
         "type": "integer"
        },
        {
         "name": "EU_market_projection",
         "rawType": "int64",
         "type": "integer"
        }
       ],
       "ref": "12b1b5b1-c977-41ab-8940-adf1064136e8",
       "rows": [
        [
         "0",
         "2022",
         "2029"
        ],
        [
         "1",
         "2025",
         "2035"
        ],
        [
         "2",
         "2024",
         "2030"
        ],
        [
         "3",
         "2022",
         "2030"
        ]
       ],
       "shape": {
        "columns": 2,
        "rows": 4
       }
      },
      "text/html": [
       "<div>\n",
       "<style scoped>\n",
       "    .dataframe tbody tr th:only-of-type {\n",
       "        vertical-align: middle;\n",
       "    }\n",
       "\n",
       "    .dataframe tbody tr th {\n",
       "        vertical-align: top;\n",
       "    }\n",
       "\n",
       "    .dataframe thead th {\n",
       "        text-align: right;\n",
       "    }\n",
       "</style>\n",
       "<table border=\"1\" class=\"dataframe\">\n",
       "  <thead>\n",
       "    <tr style=\"text-align: right;\">\n",
       "      <th></th>\n",
       "      <th>Year</th>\n",
       "      <th>EU_market_projection</th>\n",
       "    </tr>\n",
       "  </thead>\n",
       "  <tbody>\n",
       "    <tr>\n",
       "      <th>0</th>\n",
       "      <td>2022</td>\n",
       "      <td>2029</td>\n",
       "    </tr>\n",
       "    <tr>\n",
       "      <th>1</th>\n",
       "      <td>2025</td>\n",
       "      <td>2035</td>\n",
       "    </tr>\n",
       "    <tr>\n",
       "      <th>2</th>\n",
       "      <td>2024</td>\n",
       "      <td>2030</td>\n",
       "    </tr>\n",
       "    <tr>\n",
       "      <th>3</th>\n",
       "      <td>2022</td>\n",
       "      <td>2030</td>\n",
       "    </tr>\n",
       "  </tbody>\n",
       "</table>\n",
       "</div>"
      ],
      "text/plain": [
       "   Year  EU_market_projection\n",
       "0  2022                  2029\n",
       "1  2025                  2035\n",
       "2  2024                  2030\n",
       "3  2022                  2030"
      ]
     },
     "metadata": {},
     "output_type": "display_data"
    }
   ],
   "source": [
    "display(pd.read_csv(PROCESSED_DIR / \"eu_market_projection.csv\").head())"
   ]
  },
  {
   "cell_type": "code",
   "execution_count": 28,
   "id": "90d99933",
   "metadata": {},
   "outputs": [
    {
     "data": {
      "text/plain": [
       "['bottling_export_2011_2024.csv',\n",
       " 'bottling_national_2011_2024.csv',\n",
       " 'brands_export_growth_2011_2024.csv',\n",
       " 'economic_impact_2010_2023_wide.csv',\n",
       " 'eu_market_projection.csv',\n",
       " 'indicators_2021_2024.csv',\n",
       " 'production_2005_2024.csv',\n",
       " 'sme_strategies.csv']"
      ]
     },
     "execution_count": 28,
     "metadata": {},
     "output_type": "execute_result"
    }
   ],
   "source": [
    "sorted(p.name for p in PROCESSED_DIR.glob(\"*.csv\"))"
   ]
  },
  {
   "cell_type": "code",
   "execution_count": null,
   "id": "88608b6f",
   "metadata": {},
   "outputs": [],
   "source": []
  },
  {
   "cell_type": "code",
   "execution_count": null,
   "id": "8cdae021",
   "metadata": {},
   "outputs": [],
   "source": []
  },
  {
   "cell_type": "code",
   "execution_count": null,
   "id": "faf62e0a",
   "metadata": {},
   "outputs": [],
   "source": []
  }
 ],
 "metadata": {
  "kernelspec": {
   "display_name": "data-analyst",
   "language": "python",
   "name": "python3"
  },
  "language_info": {
   "codemirror_mode": {
    "name": "ipython",
    "version": 3
   },
   "file_extension": ".py",
   "mimetype": "text/x-python",
   "name": "python",
   "nbconvert_exporter": "python",
   "pygments_lexer": "ipython3",
   "version": "3.13.5"
  }
 },
 "nbformat": 4,
 "nbformat_minor": 5
}
